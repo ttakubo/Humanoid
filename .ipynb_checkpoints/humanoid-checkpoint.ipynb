{
 "cells": [
  {
   "cell_type": "markdown",
   "metadata": {},
   "source": [
    "### データ構造の定義\n",
    "ヒューマノイドロボットの本と同じくpythonのclassでuLINKの構造を定義する．\n",
    "\n",
    "下記のデータ構造の例は，「ヒューマノイドロボット」の第２章の例と同じく「name（名前）」，「sister（リンクの兄弟（姉妹））」，「child（リンク子供）」，「m（リンクの質量）」の他に，「mother（リンクの親）」を加えている．\n"
   ]
  },
  {
   "cell_type": "code",
   "execution_count": 1,
   "metadata": {},
   "outputs": [],
   "source": [
    "class uLINK:\n",
    "  def __init__(self, name, sister, child, m, mother):\n",
    "    self.name = name\n",
    "    self.sister = sister\n",
    "    self.child = child\n",
    "    self.m = m\n",
    "    self.mother = mother"
   ]
  },
  {
   "cell_type": "markdown",
   "metadata": {},
   "source": [
    "上記のクラスを使ってリスト構造にデータを代入する．\n",
    "\n",
    "初期化では，２分木の構造の兄弟（姉妹）と子供のリンク構造だけ与えておき，リンクの親についてはゼロを代入している．\n",
    "\n",
    "親リンクについては，後にあるFindmotherの関数で自動的に代入されるようになっている．"
   ]
  },
  {
   "cell_type": "code",
   "execution_count": 2,
   "metadata": {},
   "outputs": [],
   "source": [
    "arr=[0]*10 #10個のリストをゼロで初期化\n",
    "arr[0]=uLINK(\"empty\",0,0,0,0) #uLINKクラスの定義に沿ってデータを代入\n",
    "arr[1]=uLINK(\"BODY\",0,2,10,0)\n",
    "arr[2]=uLINK(\"RARM\",4,3,5,0)\n",
    "arr[3]=uLINK(\"RHAND\",0,0,1,0)\n",
    "arr[4]=uLINK(\"LARM\",6,5,5,0)\n",
    "arr[5]=uLINK(\"LHAND\",0,0,1,0)\n",
    "arr[6]=uLINK(\"RLEG\",8,7,6,0)\n",
    "arr[7]=uLINK(\"RFOOT\",0,0,2,0)\n",
    "arr[8]=uLINK(\"LLEG\",0,9,6,0)\n",
    "arr[9]=uLINK(\"LFOOT\",0,0,2,0)"
   ]
  },
  {
   "cell_type": "markdown",
   "metadata": {},
   "source": [
    "### FindMther関数\n",
    "\n",
    "兄弟と子供のリンク構造を定義しておけば，この関数を使うことで，リンクの親の情報を求めることができる．"
   ]
  },
  {
   "cell_type": "code",
   "execution_count": 3,
   "metadata": {},
   "outputs": [],
   "source": [
    "def FindMother(j):\n",
    "    if j != 0:\n",
    "        if j == 1:\n",
    "            arr[j].mother = 0;\n",
    "        if arr[j].child != 0:\n",
    "            arr[arr[j].child].mother = j;\n",
    "            FindMother(arr[j].child);\n",
    "        if arr[j].sister != 0:\n",
    "            arr[arr[j].sister].mother = arr[j].mother;\n",
    "            FindMother(arr[j].sister);"
   ]
  },
  {
   "cell_type": "markdown",
   "metadata": {},
   "source": [
    "下記は，FindMother関数の実行例\n",
    "\n",
    "FindMother関数の引数に与えたリンク番号の下に位置している兄弟リンクと子供リンクのすべての親のIDをリンク構造の定義motherに代入してくれる．"
   ]
  },
  {
   "cell_type": "code",
   "execution_count": 4,
   "metadata": {},
   "outputs": [
    {
     "name": "stdout",
     "output_type": "stream",
     "text": [
      "arr[8].mother:  1\n"
     ]
    }
   ],
   "source": [
    "FindMother(1) #ID1以下のリンクの親のIDを登録\n",
    "print(\"arr[8].mother: \", arr[8].mother) #リンク8の親のIDを表示"
   ]
  },
  {
   "cell_type": "markdown",
   "metadata": {},
   "source": [
    "### TotalMass関数\n",
    "\n",
    "引数に与えたリンク番号以下のリンク構造すべての質量の和を計算する．"
   ]
  },
  {
   "cell_type": "code",
   "execution_count": 5,
   "metadata": {},
   "outputs": [],
   "source": [
    "def TotalMass(x):\n",
    "  if x == 0:\n",
    "    m = 0\n",
    "    return m\n",
    "  else:\n",
    "    m = arr[x].m + TotalMass(arr[x].sister) + TotalMass(arr[x].child)\n",
    "    return m"
   ]
  },
  {
   "cell_type": "code",
   "execution_count": 6,
   "metadata": {},
   "outputs": [
    {
     "data": {
      "text/plain": [
       "38"
      ]
     },
     "execution_count": 6,
     "metadata": {},
     "output_type": "execute_result"
    }
   ],
   "source": [
    "TotalMass(1) #リンク１以下のすべての質量の和．"
   ]
  },
  {
   "cell_type": "markdown",
   "metadata": {},
   "source": [
    "### PrintLinkName関数\n",
    "\n",
    "引数に与えたリンク番号以下のリンク番号と名前を表示する関数．"
   ]
  },
  {
   "cell_type": "code",
   "execution_count": 7,
   "metadata": {},
   "outputs": [],
   "source": [
    "def PrintLinkName(j):\n",
    "    if j != 0:\n",
    "        print('ID=', j, arr[j].name)\n",
    "        PrintLinkName(arr[j].child);\n",
    "        PrintLinkName(arr[j].sister);\n",
    "    "
   ]
  },
  {
   "cell_type": "code",
   "execution_count": 8,
   "metadata": {},
   "outputs": [
    {
     "name": "stdout",
     "output_type": "stream",
     "text": [
      "ID= 1 BODY\n",
      "ID= 2 RARM\n",
      "ID= 3 RHAND\n",
      "ID= 4 LARM\n",
      "ID= 5 LHAND\n",
      "ID= 6 RLEG\n",
      "ID= 7 RFOOT\n",
      "ID= 8 LLEG\n",
      "ID= 9 LFOOT\n"
     ]
    }
   ],
   "source": [
    "PrintLinkName(1) #リンク１以下のすべてのリンク番号と名前を表示"
   ]
  },
  {
   "cell_type": "markdown",
   "metadata": {},
   "source": [
    "### Rodriges関数\n",
    "\n",
    "ロドリゲスの式を使った回転行列の計算を行うための関数．\n",
    "入力は，第１引数に回転ベクトル（回転軸を表す単位ベクトル），第２引数に回転軸周りに回転した角度を与えることで，回転行列を得ることができる．"
   ]
  },
  {
   "cell_type": "code",
   "execution_count": 9,
   "metadata": {},
   "outputs": [],
   "source": [
    "def Rodrigues(w,dt):\n",
    "    norm_w = np.linalg.norm(w);\n",
    "    if norm_w < sys.float_info.epsilon :\n",
    "        R = np.eye(3);\n",
    "    else :\n",
    "        th = norm_w * dt;\n",
    "        wn = w/norm_w;\n",
    "        w_wedge = np.array([ [0, -wn[2], wn[1]],[wn[2], 0, -wn[0]],[-wn[1], wn[0], 0]]);\n",
    "        R = np.eye(3) + w_wedge * math.sin(th) + np.matmul(w_wedge,w_wedge) * (1-math.cos(th));\n",
    "    return R"
   ]
  },
  {
   "cell_type": "code",
   "execution_count": 10,
   "metadata": {},
   "outputs": [
    {
     "data": {
      "text/plain": [
       "array([[ 1.        ,  0.        ,  0.        ],\n",
       "       [ 0.        ,  0.87758256, -0.47942554],\n",
       "       [ 0.        ,  0.47942554,  0.87758256]])"
      ]
     },
     "execution_count": 10,
     "metadata": {},
     "output_type": "execute_result"
    }
   ],
   "source": [
    "#Rodrigues関数の利用例\n",
    "import numpy as np #行列計算のためnumpyをインポート\n",
    "import math        #三角関数を使うためにmathをインポート\n",
    "import sys         #計算機イプシロンを使うためにsysをインポート\n",
    "w=[1.0, 0.0, 0.0]; #回転ベクトルを定義：x軸回りの回転を表す\n",
    "dt=0.5;            #回転ベクトル周りの回転量(rad)を与える\n",
    "Rodrigues(w,dt)    #回転行列R(3x3行列)を計算"
   ]
  },
  {
   "cell_type": "markdown",
   "metadata": {},
   "source": [
    "### ForwardKinematics関数\n",
    "\n",
    "順運動学の計算を行う関数．引数を与えたリンク以下のすべてのリンクの関節位置を現在の関節角度から計算する．再帰関数を利用しているため非常にシンプルにすべての関節の位置と姿勢（回転行列）を得ることができる．"
   ]
  },
  {
   "cell_type": "code",
   "execution_count": 11,
   "metadata": {},
   "outputs": [],
   "source": [
    "def ForwardKinematics(j):\n",
    "    if j == 0: return\n",
    "    if j != 1:\n",
    "        mom = arr[j].mother;\n",
    "        arr[j].p = np.matmul(arr[mom].R, arr[j].b) + arr[mom].p\n",
    "        ROD = Rodrigues(arr[j].a, arr[j].q);\n",
    "        arr[j].R = np.matmul(arr[mom].R, ROD);\n",
    "    ForwardKinematics(arr[j].sister);\n",
    "    ForwardKinematics(arr[j].child);"
   ]
  },
  {
   "cell_type": "markdown",
   "metadata": {},
   "source": [
    "### データ構造の定義の追加\n",
    "\n",
    "一番初めに定義した「name（名前）」，「sister（リンクの兄弟（姉妹））」，「child（リンク子供）」，「m（リンクの質量）」の他に，「mother（リンクの親）」の他に，順運動学計算に必要となるリンク間距離(b：３次元ベクトル)や関節の回転軸(a：３次元ベクトル)，関節の回転角(q：スカラ)，リンクの回転行列(R：絶対座標基準)，リンクの位置(p：絶対座標基準)を追加している．"
   ]
  },
  {
   "cell_type": "code",
   "execution_count": 12,
   "metadata": {},
   "outputs": [],
   "source": [
    "class uLINK:\n",
    "  def __init__(self, name, sister, child, m, mother, b ,a ,q,R,p):\n",
    "    self.name = name\n",
    "    self.sister = sister\n",
    "    self.child = child\n",
    "    self.mother = mother\n",
    "    self.m = m\n",
    "    self.b = b\n",
    "    self.a = a\n",
    "    self.q = q\n",
    "    self.R = R\n",
    "    self.p = p"
   ]
  },
  {
   "cell_type": "markdown",
   "metadata": {},
   "source": [
    "新しく設定した定義似合わせて，リンクの情報を下記の例の通り設定している．\n",
    "\n",
    "右足(RLEG）と左足（LLEG）はそれぞれJ0からJ5の６つの関節を有しているロボットアーム（レッグ）となっている．\n",
    "\n",
    "股関節（肩関節）に３軸直交（J0のZ軸回転（ヨー）とJ1のX軸回転（ロール），J2のY軸回転（ピッチ）が同じ位置に設定されている）となっており，膝関節はJ3関節にY軸回り（ピッチ）の関節，足首には，J4関節にY軸（ヨー）とJ5関節にX軸（ロール）の関節を与えている．\n"
   ]
  },
  {
   "cell_type": "code",
   "execution_count": 13,
   "metadata": {},
   "outputs": [],
   "source": [
    "ToDeg = 180/math.pi;   #r adianからdegreeに変換するときの係数\n",
    "ToRad = math.pi/180;   #d egreeからradianに変換するときの係数\n",
    "\n",
    "UX = [1.0,0.0,0.0];    # X軸の単位ベクトルで関節軸を設定するためのシンボル設定\n",
    "UY = [0.0,1.0,0.0];    # Y軸の単位ベクトルで関節軸を設定するためのシンボル設定\n",
    "UZ = [0.0,0.0,1.0];    # Z軸の単位ベクトルで関節軸を設定するためのシンボル設定\n",
    "\n",
    "R0=np.eye(3);          # 単位行列のシンボル設定\n",
    "p0= [0,0,0];           # ゼロ位置のシンボル設定\n",
    "\n",
    "arr = [0]*14          # リンクの数（この例では14リンク）の配列を初期化\n",
    "\n",
    "arr[0]=uLINK(\"empty\",0,0,0,0,0,0,0,R0,p0) # 空のゼロリンクを設定（ワールド座標系）\n",
    "arr[1]=uLINK(\"BODY\", 0, 2, 0, 10, [0.0, 0.0, 0.7],UZ,0,R0,p0) # Bodyのリンク初期化\n",
    "\n",
    "# 右足のリンクの初期化：第3関節（股関節のピッチ）と第4関節（膝関節）のピッチ角を与えている）\n",
    "arr[2]=uLINK(\"RLEG_J0\", 8, 3, 0, 5, [0.0,-0.1, 0.0],UZ,0,R0,p0)\n",
    "arr[3]=uLINK(\"RLEG_J1\", 0, 4, 0, 1, [0.0, 0.0, 0.0],UX,0,R0,p0)\n",
    "arr[4]=uLINK(\"RLEG_J2\", 0, 5, 0, 5, [0.0, 0.0, 0.0],UY,-90*ToRad,R0,p0)\n",
    "arr[5]=uLINK(\"RLEG_J3\", 0, 6, 0, 1, [0.0, 0.0,-0.3],UY,90*ToRad,R0,p0)\n",
    "arr[6]=uLINK(\"RLEG_J4\", 0, 7, 0, 6, [0.0, 0.0,-0.3],UY,0,R0,p0)\n",
    "arr[7]=uLINK(\"RLEG_J5\", 0, 0, 0, 2, [0.0, 0.0, 0.0],UX,0,R0,p0)\n",
    "\n",
    "# 左足のリンクの初期化：第10関節（股関節のピッチ）と第11関節（膝関節）のピッチ角を与えている）\n",
    "arr[8] =uLINK(\"LLEG_J0\", 0,  9, 0, 5, [0.0, 0.1, 0.0],UZ,0,R0,p0)\n",
    "arr[9] =uLINK(\"LLEG_J1\", 0, 10, 0, 1, [0.0, 0.0, 0.0],UX,0,R0,p0)\n",
    "arr[10]=uLINK(\"LLEG_J2\", 0, 11, 0, 5, [0.0, 0.0, 0.0],UY,-90*ToRad,R0,p0)\n",
    "arr[11]=uLINK(\"LLEG_J3\", 0, 12, 0, 1, [0.0, 0.0,-0.3],UY,90*ToRad,R0,p0)\n",
    "arr[12]=uLINK(\"LLEG_J4\", 0, 13, 0, 6, [0.0, 0.0,-0.3],UY,0,R0,p0)\n",
    "arr[13]=uLINK(\"LLEG_J5\", 0,  0, 0, 2, [0.0, 0.0, 0.0],UX,0,R0,p0)\n",
    "\n",
    "FindMother(1)"
   ]
  },
  {
   "cell_type": "markdown",
   "metadata": {},
   "source": [
    "上記の様に各リンクの設定が適切に行われていれば，ForwardKinematics関数を呼び出すだけで，各関節の位置と姿勢を求めることができる．\n",
    "\n",
    "下記に使用例を示す．"
   ]
  },
  {
   "cell_type": "code",
   "execution_count": 14,
   "metadata": {
    "scrolled": true
   },
   "outputs": [
    {
     "name": "stdout",
     "output_type": "stream",
     "text": [
      "[ 0.3 -0.1 -0.3]\n",
      "[[1. 0. 0.]\n",
      " [0. 1. 0.]\n",
      " [0. 0. 1.]]\n",
      "[ 0.3  0.1 -0.3]\n",
      "[[1. 0. 0.]\n",
      " [0. 1. 0.]\n",
      " [0. 0. 1.]]\n"
     ]
    }
   ],
   "source": [
    "ForwardKinematics(1) #第１リンク以下のすべてのリンク位置と姿勢を計算\n",
    "print(arr[7].p)      #第７リンクの関節位置を表示（右足首の位置）\n",
    "print(arr[7].R)      #第７リンクの関節の姿勢行列を表示（右足首の姿勢行列）\n",
    "print(arr[13].p)     #第13リンクの関節位置を表示（左足首の位置）\n",
    "print(arr[13].R)     #第13リンクの関節の姿勢行列を表示（左足首の姿勢行列）"
   ]
  },
  {
   "cell_type": "markdown",
   "metadata": {},
   "source": [
    "イメージがつきやすいように下記のコードで，3次元のグラフに各関節の位置をプロットして線でつなげた図を示す．\n",
    "\n",
    "「#inline」をつけることで，プロット図をjupyternotebook上でも見ることができる．\n",
    "\n",
    "下記では記載していないが「%matplotlib notebook」と記載をしておくと，3次元プロットをドラッグして別の視点からも見ることができる．"
   ]
  },
  {
   "cell_type": "code",
   "execution_count": 15,
   "metadata": {},
   "outputs": [
    {
     "data": {
      "text/plain": [
       "<Figure size 600x600 with 1 Axes>"
      ]
     },
     "metadata": {},
     "output_type": "display_data"
    }
   ],
   "source": [
    "from mpl_toolkits.mplot3d import Axes3D\n",
    "import matplotlib.pyplot as plt\n",
    "import numpy as np\n",
    "fig, ax = plt.subplots(figsize=(6, 6), subplot_kw={'projection' : '3d'})\n",
    "r_leg = np.array([arr[1].p,arr[2].p,arr[3].p,arr[4].p,arr[5].p,arr[6].p,arr[7].p])\n",
    "l_leg = np.array([arr[1].p,arr[8].p,arr[9].p,arr[10].p,arr[11].p,arr[12].p,arr[13].p])\n",
    "\n",
    "ax.plot(r_leg[:,0],r_leg[:,1],r_leg[:,2],\"o-\", c='b')\n",
    "ax.plot(l_leg[:,0],l_leg[:,1],l_leg[:,2],\"o-\", c='b')\n",
    "ax.set_xticks(np.linspace(-1.0, 1.0, 5))\n",
    "ax.set_yticks(np.linspace(-1.0, 1.0, 5))\n",
    "ax.set_zticks(np.linspace(-1.0, 1.0, 5))\n",
    "#inline\n",
    "plt.show()"
   ]
  },
  {
   "cell_type": "markdown",
   "metadata": {},
   "source": [
    "## RPY2R関数\n",
    "\n",
    "roll(X軸回りの回転角），pitch(Y軸回りの回転角），yaw(Z軸回りの回転角）の角度から回転行列R（３ｘ３）を求める関数．\n"
   ]
  },
  {
   "cell_type": "code",
   "execution_count": 16,
   "metadata": {},
   "outputs": [],
   "source": [
    "def RPY2R(rpy):\n",
    "    roll = rpy[0]; pitch = rpy[1]; yaw = rpy[2];\n",
    "    Cphi = math.cos(roll);  Sphi = math.sin(roll);\n",
    "    Cthe = math.cos(pitch); Sthe = math.sin(pitch);\n",
    "    Cpsi = math.cos(yaw);   Spsi = math.sin(yaw);\n",
    "\n",
    "    R = [[Cpsi*Cthe,  -Spsi*Cphi+Cpsi*Sthe*Sphi,  Spsi*Sphi+Cpsi*Sthe*Cphi],\n",
    "       [Spsi*Cthe,  Cpsi*Cphi+Spsi*Sthe*Sphi,   -Cpsi*Sphi+Spsi*Sthe*Cphi],\n",
    "       [-Sthe,      Cthe*Sphi,                  Cthe*Cphi]                 ]\n",
    "    return R\n"
   ]
  },
  {
   "cell_type": "markdown",
   "metadata": {},
   "source": [
    "## FindRoute関数\n",
    "\n",
    "求めたい位置・姿勢のリンクを引数に与えると，Bodyリンクからのリンクのつながり（ルート）を配列で返してくれる．\n",
    "\n",
    "例えば，引数に右足首の最終関節のリンク番号7を与えるとボディリンク１からどの関節を経由してリンク７につながっているか配列で返してくれる．<br>\n",
    "FindRoute(7)　と入力すると<br>\n",
    "[2,3,4,5,6,7]　という配列が返ってくる"
   ]
  },
  {
   "cell_type": "code",
   "execution_count": 17,
   "metadata": {},
   "outputs": [],
   "source": [
    "def FindRoute(to):\n",
    "#return the list of joint number connecting ROOT to 'to'\n",
    "    i = arr[to].mother;\n",
    "#if i == 0\n",
    "#    idx = [];    % search failed\n",
    "#    fprintf('FindRoute: search failed\\n');\n",
    "#else\n",
    "    if i == 1:\n",
    "        idx = [to];\n",
    "    else:\n",
    "        idx = FindRoute(i) + [to];\n",
    "    return idx\n"
   ]
  },
  {
   "cell_type": "code",
   "execution_count": 18,
   "metadata": {},
   "outputs": [
    {
     "data": {
      "text/plain": [
       "[2, 3, 4, 5, 6, 7]"
      ]
     },
     "execution_count": 18,
     "metadata": {},
     "output_type": "execute_result"
    }
   ],
   "source": [
    "FindRoute(7)"
   ]
  },
  {
   "cell_type": "code",
   "execution_count": null,
   "metadata": {},
   "outputs": [],
   "source": [
    "def rot2omega(R):\n",
    "    # T.Sugihara \"Solvability-unconcerned Inverse Kinemacics based on \n",
    "    # Levenberg-Marquardt method with Robust Damping,\" Humanoids 2009\n",
    "    #el = [R[3,2]-R[2,3], R[1,3]-R[3,1], R[2,1]-R[1,2]];\n",
    "    el = np.array([R[2,1]-R[1,2], R[0,2]-R[2,0], R[1,0]-R[0,1]]);\n",
    "    norm_el = np.linalg.norm(el);\n",
    "    if norm_el >  sys.float_info.epsilon :\n",
    "        #print(\"el \",el)\n",
    "        #print(\"norm_el \",norm_el)\n",
    "        #print(\"np.trace(R)\", (np.trace(R)-1))\n",
    "        #print(\"atan2 \",math.atan2(norm_el, np.trace(R)-1))\n",
    "        w = math.atan2(norm_el, np.trace(R)-1)/norm_el * el;\n",
    "    elif R[0,0]>0 and R[1,1]>0 and R[2,2]>0 :#elif R[1,1]>0 and R[2,2]>0 and R[3,3]>0 :\n",
    "        w = [0, 0, 0];\n",
    "    else :\n",
    "        w = math.pi/2*[R(0,0)+1, R(1,1)+1, R(2,2)+1];#w = math.pi/2*[R(1,1)+1, R(2,2)+1, R(3,3)+1];\n",
    "    return w"
   ]
  },
  {
   "cell_type": "code",
   "execution_count": null,
   "metadata": {},
   "outputs": [],
   "source": [
    "def CalcVWerr(arr1, arr2):\n",
    "    perr = arr1.p - arr2.p;\n",
    "    Rerr = np.matmul(arr2.R.T, arr1.R);\n",
    "    werr = np.matmul(arr2.R, rot2omega(Rerr));\n",
    "    #print(\"rot2omega\",rot2omega(Rerr))\n",
    "    #err = [perr, werr];\n",
    "    err = [0]*6\n",
    "\n",
    "    for k in range(3):\n",
    "        err[k] = perr[k];\n",
    "        err[k+3] = werr[k];\n",
    "    return err"
   ]
  },
  {
   "cell_type": "code",
   "execution_count": null,
   "metadata": {},
   "outputs": [],
   "source": [
    "def  CalcJacobian_rot(idx) :\n",
    "    #Jacobian matrix of current configration in World frame\n",
    "    jsize = len(idx);\n",
    "    target = arr[idx[jsize-1]].p;#   % absolute target position\n",
    "    J = np.zeros(3,jsize);\n",
    "\n",
    "    for n in range(jsize):\n",
    "        j = idx[n];\n",
    "        a = np.matmul(arr[j].R, arr[j].a);#  % joint axis vector in world frame\n",
    "        np.cross(a, target - arr[j].p);\n",
    "    return J"
   ]
  },
  {
   "cell_type": "code",
   "execution_count": null,
   "metadata": {},
   "outputs": [],
   "source": [
    "def CalcJacobian(idx) :\n",
    "    # Jacobian matrix of current configration in World frame\n",
    "    jsize = len(idx);\n",
    "    target = arr[idx[jsize-1]].p;   #% absolute target position\n",
    "    J = np.zeros((6,jsize));\n",
    "    JT = np.zeros((jsize,6));\n",
    "\n",
    "    for n in range(jsize) : #n=1:jsize\n",
    "        j = idx[n];\n",
    "        #print(\"j \", j)\n",
    "        #print(\"arr.R \", arr[j].R)\n",
    "        #print(\"arr.a \", arr[j].a)\n",
    "        a = np.matmul(arr[j].R, arr[j].a);  #% joint axis vector in world frame\n",
    "        #print(\"cross \", np.cross(a, target - arr[j].p) )\n",
    "        #print(\"a \", a)\n",
    "        cross = np.cross(a, target - arr[j].p);\n",
    "        #print(\"len(cross) \", len(cross))\n",
    "        for k in range(len(cross)):\n",
    "            J[k, n] = cross[k];\n",
    "            J[k+len(cross),n] = a[k];\n",
    "\n",
    "    return J\n",
    "\n"
   ]
  },
  {
   "cell_type": "code",
   "execution_count": null,
   "metadata": {},
   "outputs": [],
   "source": [
    "def InverseKinematics(to, Target):\n",
    "    lam = 0.9;\n",
    "    idx = FindRoute(to);\n",
    "    #print(\"idx \", idx)\n",
    "    ForwardKinematics(1);\n",
    "    err = CalcVWerr(Target, arr[to]);\n",
    "   # print(\"err \",err)\n",
    "    for n in range(10):\n",
    "        if np.linalg.norm(err) < 1e-6 : break;\n",
    "        J  = CalcJacobian(idx);\n",
    "        #print(\"J \", J )\n",
    "        dq = lam * np.matmul(np.linalg.inv(J), err);\n",
    "        print(\"dq \",dq)\n",
    "        #print(\"idx \", idx)\n",
    "        MoveJoints(idx, dq);\n",
    "        ForwardKinematics(1);\n",
    "        err = CalcVWerr(Target, arr[to]);\n",
    "        #print(\"err \", err)\n",
    "\n",
    "    err_norm = np.linalg.norm(err);\n",
    "    return err_norm"
   ]
  },
  {
   "cell_type": "code",
   "execution_count": null,
   "metadata": {},
   "outputs": [],
   "source": [
    "def MoveJoints(idx, dq):\n",
    "    for n in range(len(idx)):\n",
    "        j = idx[n];\n",
    "        arr0 = arr[j].q\n",
    "        arr[j].q = arr[j].q + dq[n];\n",
    "        #print(\"arr1, arr0, dq \",arr[n].q , arr0 , dq[n])\n",
    "    #print(\"arr_q \", arr[0].q, arr[1].q, arr[2].q, arr[3].q, arr[4].q, arr[5].q)"
   ]
  },
  {
   "cell_type": "code",
   "execution_count": null,
   "metadata": {},
   "outputs": [],
   "source": [
    "#ヤコビ行列を使った逆運動学計算\n",
    "#初期姿勢がおかしいと計算できないことがあるので注意\n",
    "Rfoot=uLINK(\"Rfoot_target\",0,0,0,0,0,0,0,R0,p0)\n",
    "Lfoot=uLINK(\"Lfoot_target\",0,0,0,0,0,0,0,R0,p0)\n",
    "RLEG_J5 = 7;\n",
    "LLEG_J5 = 13;\n",
    "\n",
    "Rfoot.p = [0.0, -0.1, -0.3]; # [0, -0.1, 0] + 0.2*(np.random.rand(3)-0.5);\n",
    "Rfoot.R = np.eye(3); #RPY2R(1/2*math.pi*(np.random.rand(3)-0.5));#  %  -pi/4 < q < pi/4\n",
    "rerr_norm = InverseKinematics(RLEG_J5, Rfoot);\n",
    "\n",
    "Lfoot.p = [0, 0.1, -0.4]; # [0, 0.1, 0] + 0.2*(np.random.rand(3)-0.5);\n",
    "Lfoot.R = np.eye(3); #RPY2R(1/2*math.pi*(np.random.rand(3)-0.5));#  %  -pi/4 < q < pi/4\n",
    "lerr_norm = InverseKinematics(LLEG_J5, Lfoot);\n",
    "\n",
    "fig, ax = plt.subplots(figsize=(6, 6), subplot_kw={'projection' : '3d'})\n",
    "r_leg = np.array([arr[1].p,arr[2].p,arr[3].p,arr[4].p,arr[5].p,arr[6].p,arr[7].p])\n",
    "l_leg = np.array([arr[1].p,arr[8].p,arr[9].p,arr[10].p,arr[11].p,arr[12].p,arr[13].p])\n",
    "\n",
    "ax.plot(r_leg[:,0],r_leg[:,1],r_leg[:,2],\"o-\", c='b')\n",
    "ax.plot(l_leg[:,0],l_leg[:,1],l_leg[:,2],\"o-\", c='b')\n",
    "ax.set_xticks(np.linspace(-1.0, 1.0, 5))\n",
    "ax.set_yticks(np.linspace(-1.0, 1.0, 5))\n",
    "ax.set_zticks(np.linspace(-1.0, 1.0, 5))\n",
    "#inline\n",
    "plt.show()\n",
    "print(\"arr[7].p \", arr[7].p)\n",
    "print(\"rerr_norm \", rerr_norm)\n",
    "print(\"arr[13].p \", arr[13].p)\n",
    "print(\"lerr_norm \", lerr_norm)"
   ]
  },
  {
   "cell_type": "code",
   "execution_count": null,
   "metadata": {},
   "outputs": [],
   "source": [
    "def Draw_R(arr):\n",
    "    fig, ax = plt.subplots(figsize=(6, 6), subplot_kw={'projection' : '3d'})\n",
    "    r_leg = np.array([arr[1].p,arr[2].p,arr[3].p,arr[4].p,arr[5].p,arr[6].p,arr[7].p])\n",
    "    l_leg = np.array([arr[1].p,arr[8].p,arr[9].p,arr[10].p,arr[11].p,arr[12].p,arr[13].p])\n",
    "\n",
    "    ax.plot(r_leg[:,0],r_leg[:,1],r_leg[:,2],\"o-\", c='b')\n",
    "    ax.plot(l_leg[:,0],l_leg[:,1],l_leg[:,2],\"o-\", c='b')\n",
    "    ax.set_xticks(np.linspace(-1.0, 1.0, 5))\n",
    "    ax.set_yticks(np.linspace(-1.0, 1.0, 5))\n",
    "    ax.set_zticks(np.linspace(-1.0, 1.0, 5))\n",
    "    #inline\n",
    "    plt.show()"
   ]
  },
  {
   "cell_type": "code",
   "execution_count": null,
   "metadata": {},
   "outputs": [],
   "source": [
    "Draw_R(arr)"
   ]
  },
  {
   "cell_type": "code",
   "execution_count": null,
   "metadata": {},
   "outputs": [],
   "source": [
    "def SetJointAngles(idx, q):\n",
    "    for n in range(len(idx)):\n",
    "        j = idx[n];\n",
    "        arr[j].q = q[n];\n",
    "        \n",
    "    ForwardKinematics(1);"
   ]
  },
  {
   "cell_type": "code",
   "execution_count": null,
   "metadata": {},
   "outputs": [],
   "source": [
    "def InverseKinematics_LM(to, Target):\n",
    "# Levenberg-Marquardt, Chan-Lawrence, Sugihara's modification\n",
    "\n",
    "    idx = FindRoute(to);\n",
    "    wn_pos = 1/0.3;\n",
    "    wn_ang = 1/(2*math.pi);\n",
    "    We = np.diag([wn_pos, wn_pos, wn_pos, wn_ang, wn_ang, wn_ang]);#何やってる？\n",
    "    Wn = np.eye(len(idx));#何やってるの？\n",
    "\n",
    "    ForwardKinematics(1);\n",
    "    err = CalcVWerr(Target, arr[to]);\n",
    "    Ek = np.matmul(np.matmul(err, We),err); #Ek = err'*We*err;\n",
    "\n",
    "    for n in range(10):\n",
    "        J  = CalcJacobian(idx);\n",
    "        #Jh = J'*We*J + Wn*(Ek + 0.002);  %Hk + wn\n",
    "        Jh = np.matmul(np.matmul(J.T,We),J) + Wn*(Ek+0.002)\n",
    "        #gerr = J'*We*err;    %gk\n",
    "        gerr = np.matmul(np.matmul(J.T, We), err);\n",
    "        #dq   = Jh \\ gerr;    %new\n",
    "        dq = np.matmul(np.linalg.inv(Jh), gerr);\n",
    "            \n",
    "        MoveJoints(idx, dq);\n",
    "        ForwardKinematics(1);\n",
    "        err = CalcVWerr(Target, arr[to]);\n",
    "        Ek2 = np.matmul(np.matmul(err, We),err);\n",
    "        #print(\"Ek2 \",Ek2)\n",
    "        #Ek2 = err'*We*err;\n",
    "        if Ek2 < 1e-12:\n",
    "          break;\n",
    "        elif Ek2 < Ek:\n",
    "          Ek = Ek2;\n",
    "        else:\n",
    "          MoveJoints(idx, -dq);#  % revert\n",
    "          ForwardKinematics(1);\n",
    "        break; \n",
    "        #end\n",
    "    #end\n",
    "\n",
    "    #if nargout == 1 \n",
    "    err_norm = np.linalg.norm(err);\n",
    "    #end\n",
    "\n",
    "    return err_norm"
   ]
  },
  {
   "cell_type": "code",
   "execution_count": null,
   "metadata": {},
   "outputs": [],
   "source": [
    "# Numerical inverse kinematics and knee stretch\n",
    "# ik_stretch_LM.m\n",
    "# 2013 Sept.23 s.kajita AIST\n",
    "\n",
    "SkipFrame = 10;#描画のスキップ\n",
    "\n",
    "RLEG_J0 = 2;\n",
    "RLEG_J5 = 7;\n",
    "LLEG_J5 = 13;\n",
    "\n",
    "#%%%%%%%%%%% target foot position and orientation %%%%%%%%%%%%\n",
    "idx   = FindRoute(RLEG_J5);\n",
    "\n",
    "target = np.array([0.0, 0.0, -25.0, 50.0, -25.0, 0.0])#deg\n",
    "SetJointAngles(idx, target*ToRad);\n",
    "\n",
    "Rfoot=uLINK(\"Rfoot_target\",0,0,0,0,0,0,0,R0,p0)\n",
    "#Lfoot=uLINK(\"Lfoot_target\",0,0,0,0,0,0,0,R0,p0)\n",
    "Rfoot.p = [0.0, -0.1, -0.4]; # [0, -0.1, 0] + 0.2*(np.random.rand(3)-0.5);\n",
    "Rfoot.R = np.eye(3); #RPY2R(1/2*math.pi*(np.random.rand(3)-0.5));#  %  -pi/4 < q < pi/4\n",
    "\n",
    "#Lfoot.p = [0, 0.1, -0.4]; # [0, 0.1, 0] + 0.2*(np.random.rand(3)-0.5);\n",
    "#Lfoot.R = np.eye(3); #RPY2R(1/2*math.pi*(np.random.rand(3)-0.5));#  %  -pi/4 < q < pi/4\n",
    "\n",
    "\n",
    "Height = np.linalg.norm(arr[RLEG_J0].p - arr[RLEG_J5].p);\n",
    "LegLength = 0.6;\n",
    "SingularPoint = math.sqrt(0.6*0.6 - Height*Height);\n",
    "\n",
    "#ここからまだ修正していない\n",
    "#xd_m = 0:0.005:0.4';\n",
    "Nstep = 150 #length(xd_m);\n",
    "#q_m = zeros(Nstep,6);\n",
    "#analy_q_m = zeros(Nstep,6);\n",
    "#x_m = zeros(Nstep,1);\n",
    "#manip_m = zeros(Nstep,1);\n",
    "\n",
    "print(\"Rfoot \", Rfoot.p[0] );\n",
    "\n",
    "for n in range(Nstep):\n",
    "    Rfoot.p[0] = 0.0 + 0.005 * n;  #右足のxを更新　% Right foot\n",
    "\n",
    "    #print(\"Rfoot \", Rfoot.p[0] );\n",
    "    #print(\"arr[RLEG_J5].p[0]\",arr[RLEG_J5].p[0])\n",
    "\n",
    "    rerr_norm = InverseKinematics_LM(RLEG_J5, Rfoot);\n",
    "    \n",
    "    #print(\"arr_p[0] \", arr[RLEG_J5].p[0]);\n",
    "    #q_m(n,:) = [uLINK(idx).q];\n",
    "    #analy_q_m(n,:) = IK_leg(uLINK(BODY),-0.1,0.3,0.3,Rfoot)';      %%% Analytical inverse kinematics solution\n",
    "\n",
    "    #J = CalcJacobian(idx);\n",
    "    #manip_m(n) = abs(det(J));\n",
    "    \n",
    "    if np.mod(n,SkipFrame) == 1:\n",
    "        #print(\"arr[RLEG_J5].p[0]\",arr[RLEG_J5].p[0])\n",
    "        Draw_R(arr);\n",
    "        print(\"Error \", rerr_norm);\n",
    "\n",
    "\n",
    "\n"
   ]
  },
  {
   "cell_type": "code",
   "execution_count": null,
   "metadata": {},
   "outputs": [],
   "source": [
    "# ik_strechのgifアニメーションセーブバージョン\n",
    "\n",
    "import matplotlib.pyplot as plt\n",
    "import numpy as np\n",
    "import matplotlib.animation as animation\n",
    "from matplotlib.animation import PillowWriter\n",
    "\n",
    "SkipFrame = 10;#描画のスキップ\n",
    "\n",
    "RLEG_J0 = 2;\n",
    "RLEG_J5 = 7;\n",
    "LLEG_J5 = 13;\n",
    "\n",
    "#%%%%%%%%%%% target foot position and orientation %%%%%%%%%%%%\n",
    "idx   = FindRoute(RLEG_J5);\n",
    "\n",
    "target = np.array([0.0, 0.0, -25.0, 50.0, -25.0, 0.0])#deg\n",
    "SetJointAngles(idx, target*ToRad);\n",
    "\n",
    "Rfoot=uLINK(\"Rfoot_target\",0,0,0,0,0,0,0,R0,p0)\n",
    "#Lfoot=uLINK(\"Lfoot_target\",0,0,0,0,0,0,0,R0,p0)\n",
    "Rfoot.p = [0.0, -0.1, -0.4]; # [0, -0.1, 0] + 0.2*(np.random.rand(3)-0.5);\n",
    "Rfoot.R = np.eye(3); #RPY2R(1/2*math.pi*(np.random.rand(3)-0.5));#  %  -pi/4 < q < pi/4\n",
    "\n",
    "#Lfoot.p = [0, 0.1, -0.4]; # [0, 0.1, 0] + 0.2*(np.random.rand(3)-0.5);\n",
    "#Lfoot.R = np.eye(3); #RPY2R(1/2*math.pi*(np.random.rand(3)-0.5));#  %  -pi/4 < q < pi/4\n",
    "\n",
    "\n",
    "Height = np.linalg.norm(arr[RLEG_J0].p - arr[RLEG_J5].p);\n",
    "LegLength = 0.6;\n",
    "SingularPoint = math.sqrt(0.6*0.6 - Height*Height);\n",
    "\n",
    "\n",
    "#xd_m = 0:0.005:0.4';\n",
    "Nstep = 100 #length(xd_m);\n",
    "#q_m = zeros(Nstep,6);\n",
    "#analy_q_m = zeros(Nstep,6);\n",
    "#x_m = zeros(Nstep,1);\n",
    "#manip_m = zeros(Nstep,1);\n",
    "\n",
    "print(\"Rfoot \", Rfoot.p[0] );\n",
    "\n",
    "data = np.array([arr[1].p,arr[2].p,arr[3].p,arr[4].p,arr[5].p,arr[6].p,arr[7].p])\n",
    "\n",
    "fig, ax = plt.subplots(figsize=(6, 6), subplot_kw={'projection' : '3d'})\n",
    "\n",
    "ims = []\n",
    "\n",
    "def update(num, data, line):\n",
    "    line.set_data(data[:2, :num])\n",
    "    line.set_3d_properties(data[2, :num])\n",
    "\n",
    "\n",
    "for n in range(Nstep):\n",
    "    Rfoot.p[0] = 0.0 + 0.005 * n;  #右足のxを更新　% Right foot\n",
    "\n",
    "    #print(\"Rfoot \", Rfoot.p[0] );\n",
    "    #print(\"arr[RLEG_J5].p[0]\",arr[RLEG_J5].p[0])\n",
    "\n",
    "    rerr_norm = InverseKinematics_LM(RLEG_J5, Rfoot);\n",
    "\n",
    "    r_leg = np.array([arr[1].p,arr[2].p,arr[3].p,arr[4].p,arr[5].p,arr[6].p,arr[7].p])\n",
    "    l_leg = np.array([arr[1].p,arr[8].p,arr[9].p,arr[10].p,arr[11].p,arr[12].p,arr[13].p])\n",
    "    data = np.vstack((data,r_leg));\n",
    "    \n",
    "    #print(\"arr_p[0] \", arr[RLEG_J5].p[0]);\n",
    "    #q_m(n,:) = [uLINK(idx).q];\n",
    "    #analy_q_m(n,:) = IK_leg(uLINK(BODY),-0.1,0.3,0.3,Rfoot)';      %%% Analytical inverse kinematics solution\n",
    "\n",
    "    #J = CalcJacobian(idx);\n",
    "    #manip_m(n) = abs(det(J));\n",
    "    \n",
    "    if np.mod(n,SkipFrame) == 1:\n",
    "        #print(\"arr[RLEG_J5].p[0]\",arr[RLEG_J5].p[0])\n",
    "        #Draw_R(arr);\n",
    "        #Gen_R(arr);\n",
    "        r_leg = np.array([arr[1].p,arr[2].p,arr[3].p,arr[4].p,arr[5].p,arr[6].p,arr[7].p])\n",
    "        l_leg = np.array([arr[1].p,arr[8].p,arr[9].p,arr[10].p,arr[11].p,arr[12].p,arr[13].p])\n",
    "        im1, = ax.plot(r_leg[:,0],r_leg[:,1],r_leg[:,2],\"o-\", c='b')\n",
    "        im2, = ax.plot(l_leg[:,0],l_leg[:,1],l_leg[:,2],\"o-\", c='b')\n",
    "        ims.append([im1,im2])\n",
    "        print(\"Error \", rerr_norm);\n",
    "        \n",
    "ax.set_xticks(np.linspace(-1.0, 1.0, 5))\n",
    "ax.set_yticks(np.linspace(-1.0, 1.0, 5))\n",
    "ax.set_zticks(np.linspace(-1.0, 1.0, 5))\n",
    "ani = animation.ArtistAnimation(fig, ims, interval=100)\n",
    "ani.save('anim.gif', writer=\"pillow\")\n",
    "#ani.save('anim.mp4', writer=\"ffmpeg\")\n",
    "plt.show()"
   ]
  },
  {
   "cell_type": "code",
   "execution_count": null,
   "metadata": {},
   "outputs": [],
   "source": [
    "import numpy as np\n",
    "import math\n",
    "import sys\n",
    "import matplotlib.pyplot as plt\n",
    "from mpl_toolkits.mplot3d import Axes3D\n",
    "arr=[0]*10"
   ]
  },
  {
   "cell_type": "code",
   "execution_count": null,
   "metadata": {},
   "outputs": [],
   "source": [
    "#For Dynamic simulation\n",
    "class uLINK:\n",
    "  def __init__(self, name, sister, child, m, mother, b ,a ,q,R,p, dq, ddq, c, I, Ir, gr, u, dw):\n",
    "    self.name = name\n",
    "    self.sister = sister\n",
    "    self.child = child\n",
    "    self.mother = mother\n",
    "    self.m = m\n",
    "    self.b = b\n",
    "    self.a = a\n",
    "    self.q = q\n",
    "    self.R = R\n",
    "    self.p = p\n",
    "    self.dq =dq\n",
    "    self.ddq = ddq\n",
    "    self.c  = c\n",
    "    self.I  = I\n",
    "    self.u  = u\n",
    "    self.dw = dw"
   ]
  },
  {
   "cell_type": "code",
   "execution_count": null,
   "metadata": {},
   "outputs": [],
   "source": [
    "def MakeRigidBody(j, wdh, mass):\n",
    "    arr[j].m = mass;\n",
    "    arr[j].c = [0, 0, 0];\n",
    "    arr[j].I = np.array([[1/12*(wdh[1]*wdh[1] + wdh[2]*wdh[2]), 0.0, 0.0],\n",
    "            [0.0, 1/12*(wdh[0]*wdh[0] + wdh[2]*wdh[2]),  0.0],\n",
    "            [0.0, 0.0, 1/12*(wdh[0]*wdh[0] + wdh[1]*wdh[1])]]) * mass;\n",
    "    arr[j].vertex = np.array([\n",
    "        [0.0,      0.0,      0.0],\n",
    "        [0.0,      wdh[1], 0.0],\n",
    "        [wdh[0],   wdh[1],  0.0],\n",
    "        [wdh[0],   0.0,     0.0],\n",
    "        [0.0,      0.0,     wdh[2]],\n",
    "        [0.0,      wdh[1],  wdh[2]],\n",
    "        [wdh[0],   wdh[1],  wdh[2]],\n",
    "        [wdh[0],   0.0,     wdh[2]]\n",
    "        ])\n",
    "    for n in range(3):\n",
    "        for i in range(8):\n",
    "            arr[1].vertex[i,n] = arr[1].vertex[i,n] - wdh[n]/2;\n",
    "        \n",
    "    arr[j].face = [\n",
    "        [1, 2, 3, 4], [2, 6, 7, 3], [4, 3, 7, 8],\n",
    "        [1, 5, 8, 4], [1, 2, 6, 5], [5, 6, 7, 8]\n",
    "        ];"
   ]
  },
  {
   "cell_type": "code",
   "execution_count": null,
   "metadata": {},
   "outputs": [],
   "source": [
    "def EulerDynamics(j):\n",
    "    I = np.matmul(np.matmul(arr[j].R, arr[j].I), arr[j].R.T); #    % 慣性テンソル\n",
    "    L = np.matmul(I, arr[j].w);   #                           % 角運動量\n",
    "    arr[j].dw  = np.matmul(np.linalg.pinv(I), -np.cross(arr[j].w, L)); #   % Eulerの方程式\n",
    "    return L"
   ]
  },
  {
   "cell_type": "code",
   "execution_count": null,
   "metadata": {},
   "outputs": [],
   "source": [
    "def ShowObject(arr):\n",
    "    vert = np.matmul(arr[1].R, arr[1].vertex.T);\n",
    "    for k in range(3) :# 1:3\n",
    "        vert[k,:] = vert[k,:] + arr[1].p[k];#   % adding x,y,z to all vertex\n",
    "\n",
    "    fig, ax = plt.subplots(figsize=(6, 6), subplot_kw={'projection' : '3d'})\n",
    "    ax.plot(vert[0,:],vert[1,:],vert[2,:],\"o-\", c='b')\n",
    "    ax.set_xticks(np.linspace(AX[0], AX[1], 5))\n",
    "    ax.set_yticks(np.linspace(AY[0], AY[1], 5))\n",
    "    ax.set_zticks(np.linspace(AZ[0], AZ[1], 5))\n",
    "    #inline\n",
    "    plt.show()\n"
   ]
  },
  {
   "cell_type": "code",
   "execution_count": null,
   "metadata": {},
   "outputs": [],
   "source": [
    "arr = [0]*2\n",
    "arr[1]=uLINK(\"Rfoot_target\",0,0,0,0,0,0,0,R0,p0,0,0,0,0,0,0,0,0)\n",
    "lx  = 0.1; ly  = 0.4; lz  = 0.9;\n",
    "wdh=[lx, ly, lz];\n",
    "AX=[-0.5, 0.5]; AY=[-0.5, 0.5]; AZ=[-0.5, 1.0];\n",
    "arr[1].vertex = np.array([\n",
    "        [0.0,      0.0,      0.0],\n",
    "        [0.0,      wdh[1], 0.0],\n",
    "        [wdh[0],   wdh[1],  0.0],\n",
    "        [wdh[0],   0.0,     0.0],\n",
    "        [0.0,      0.0,     wdh[2]],\n",
    "        [0.0,      wdh[1],  wdh[2]],\n",
    "        [wdh[0],   wdh[1],  wdh[2]],\n",
    "        [wdh[0],   0.0,     wdh[2]]\n",
    "        ])\n",
    "for n in range(3):\n",
    "    for j in range(8):\n",
    "        arr[1].vertex[j,n] = arr[1].vertex[j,n] - wdh[n]/2;\n",
    "\n",
    "print(arr[1].vertex[0,:])\n",
    "print(arr[1].vertex)\n",
    "    \n",
    "ShowObject(arr)"
   ]
  },
  {
   "cell_type": "code",
   "execution_count": null,
   "metadata": {},
   "outputs": [],
   "source": [
    "#rigidbody_rotate.m\n",
    "lx  = 0.1; ly  = 0.4; lz  = 0.9;\n",
    "mass = 36.0; \n",
    "R0=np.eye(3);\n",
    "p0= [0,0,0];\n",
    "\n",
    "arr = [0]*2\n",
    "arr[1]=uLINK(\"Rfoot_target\",0,0,0,0,0,0,0,R0,p0,0,0,0,0,0,0,0,0)\n",
    "\n",
    "MakeRigidBody(1, [lx, ly, lz], mass); #直方体のデータを作成\n",
    "\n",
    "arr[1].p = [0.0, 0.0, 0.0];\n",
    "arr[1].R = np.eye(3); \n",
    "arr[1].w = [1, 1, 1];      #% 初期角速度 [rad/s]\n",
    "Dtime   = 0.02;\n",
    "EndTime = 5.0;\n",
    "\n",
    "time  = 250#EndTime/Dtime;\n",
    "\n",
    "#figure\n",
    "AX=[-0.5, 0.5]; AY=[-0.5, 0.5]; AZ=[-0.5, 1.0];\n",
    "\n",
    "for n in range(time):\n",
    "    L = EulerDynamics(1);\n",
    "    arr[1].R = np.matmul(Rodrigues(arr[1].w, Dtime), arr[1].R);\n",
    "    arr[1].w = arr[1].w + Dtime * arr[1].dw; \n",
    "    #print(arr[1].R)\n",
    "    ShowObject(arr);  "
   ]
  },
  {
   "cell_type": "code",
   "execution_count": null,
   "metadata": {},
   "outputs": [],
   "source": [
    "#rigidbody_rotate.m アニメーション出力\n",
    "import matplotlib.pyplot as plt\n",
    "import numpy as np\n",
    "import matplotlib.animation as animation\n",
    "from matplotlib.animation import PillowWriter\n",
    "\n",
    "ims =[]\n",
    "fig, ax = plt.subplots(figsize=(6, 6), subplot_kw={'projection' : '3d'})\n",
    "ax.set_xticks(np.linspace(AX[0], AX[1], 5))\n",
    "ax.set_yticks(np.linspace(AY[0], AY[1], 5))\n",
    "ax.set_zticks(np.linspace(AZ[0], AZ[1], 5))\n",
    "\n",
    "lx  = 0.1; ly  = 0.4; lz  = 0.9;\n",
    "mass = 36.0; \n",
    "R0=np.eye(3);\n",
    "p0= [0,0,0];\n",
    "\n",
    "arr = [0]*2\n",
    "arr[1]=uLINK(\"Rfoot_target\",0,0,0,0,0,0,0,R0,p0,0,0,0,0,0,0,0,0)\n",
    "\n",
    "MakeRigidBody(1, [lx, ly, lz], mass); #直方体のデータを作成\n",
    "\n",
    "arr[1].p = [0.0, 0.0, 0.0];\n",
    "arr[1].R = np.eye(3); \n",
    "arr[1].w = [1, 1, 1];      #% 初期角速度 [rad/s]\n",
    "Dtime   = 0.02;\n",
    "EndTime = 5.0;\n",
    "\n",
    "time  = 250#EndTime/Dtime;\n",
    "\n",
    "#figure\n",
    "AX=[-0.5, 0.5]; AY=[-0.5, 0.5]; AZ=[-0.5, 1.0];\n",
    "\n",
    "for n in range(time):\n",
    "    L = EulerDynamics(1);\n",
    "    arr[1].R = np.matmul(Rodrigues(arr[1].w, Dtime), arr[1].R);\n",
    "    arr[1].w = arr[1].w + Dtime * arr[1].dw; \n",
    "    #print(arr[1].R)\n",
    "    \n",
    "    vert = np.matmul(arr[1].R, arr[1].vertex.T);\n",
    "    for k in range(3) :# 1:3\n",
    "        vert[k,:] = vert[k,:] + arr[1].p[k];#   % adding x,y,z to all vertex\n",
    "\n",
    "\n",
    "    im = ax.plot(vert[0,:],vert[1,:],vert[2,:],\"o-\", c='b')\n",
    "    ims.append(im)\n",
    "    \n",
    "\n",
    "ani = animation.ArtistAnimation(fig, ims, interval=100)\n",
    "ani.save('anim.gif', writer=\"pillow\")\n",
    "#ani.save('anim.mp4', writer=\"ffmpeg\")\n",
    "plt.show()\n",
    "    "
   ]
  },
  {
   "cell_type": "code",
   "execution_count": null,
   "metadata": {},
   "outputs": [],
   "source": [
    "from itertools import combinations\n",
    "from itertools import product\n",
    "from itertools import repeat\n",
    "\n",
    "import matplotlib.pyplot as plt\n",
    "from mpl_toolkits.mplot3d import Axes3D\n",
    "\n",
    "fig = plt.figure()\n",
    "ax = fig.gca(projection='3d')\n",
    "\n",
    "points = product(*repeat((-1, 1), 3))\n",
    "for p1, p2 in combinations(points, 2):\n",
    "    if [*map(sum, zip(p1, p2))].count(0) ==1:\n",
    "       ax.plot3D(*zip(p1, p2), color=\"b\")\n",
    "\n",
    "plt.show()"
   ]
  },
  {
   "cell_type": "code",
   "execution_count": null,
   "metadata": {},
   "outputs": [],
   "source": [
    "import numpy as np\n",
    "from mpl_toolkits.mplot3d import Axes3D\n",
    "import matplotlib.pyplot as plt\n",
    "\n",
    "x = [-1,1]\n",
    "y = [-1,1]\n",
    "X,Y = np.meshgrid(x,y)\n",
    "Z = np.array([[1,1],[1,1]])\n",
    "\n",
    "ax = plt.subplot(111, projection='3d')\n",
    "ax.plot_surface(X,Y,Z,alpha=0.7)\n",
    "ax.plot_surface(X,Y,-Z,alpha=0.7)\n",
    "ax.plot_surface(X,Z,Y,alpha=0.7)\n",
    "ax.plot_surface(X,-Z,Y,alpha=0.7)\n",
    "ax.plot_surface(-Z,X,Y,alpha=0.7)\n",
    "ax.plot_surface(-Z,X,Y,alpha=0.7)\n",
    "#ax.set_xlim(-2, 2)\n",
    "#ax.set_ylim(-2, 2)\n",
    "#ax.set_zlim(-2, 2)\n",
    "plt.show()"
   ]
  },
  {
   "cell_type": "code",
   "execution_count": null,
   "metadata": {},
   "outputs": [],
   "source": []
  },
  {
   "cell_type": "code",
   "execution_count": null,
   "metadata": {},
   "outputs": [],
   "source": []
  }
 ],
 "metadata": {
  "kernelspec": {
   "display_name": "Python 3",
   "language": "python",
   "name": "python3"
  },
  "language_info": {
   "codemirror_mode": {
    "name": "ipython",
    "version": 3
   },
   "file_extension": ".py",
   "mimetype": "text/x-python",
   "name": "python",
   "nbconvert_exporter": "python",
   "pygments_lexer": "ipython3",
   "version": "3.6.6"
  }
 },
 "nbformat": 4,
 "nbformat_minor": 2
}
